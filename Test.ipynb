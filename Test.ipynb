{
 "cells": [
  {
   "cell_type": "code",
   "execution_count": 1,
   "metadata": {},
   "outputs": [
    {
     "name": "stdout",
     "output_type": "stream",
     "text": [
      "0\n"
     ]
    }
   ],
   "source": [
    "import cv2\n",
    "print(cv2.cuda.getCudaEnabledDeviceCount())\n"
   ]
  },
  {
   "cell_type": "code",
   "execution_count": 3,
   "metadata": {},
   "outputs": [
    {
     "name": "stdout",
     "output_type": "stream",
     "text": [
      "CUDA is not available.\n"
     ]
    }
   ],
   "source": [
    "import torch\n",
    "\n",
    "# Check if CUDA is available\n",
    "if torch.cuda.is_available():\n",
    "    print(f\"CUDA is available. GPU: {torch.cuda.get_device_name(0)}\")\n",
    "else:\n",
    "    print(\"CUDA is not available.\")\n"
   ]
  },
  {
   "cell_type": "code",
   "execution_count": 1,
   "metadata": {},
   "outputs": [
    {
     "name": "stdout",
     "output_type": "stream",
     "text": [
      "Local IP address: 192.168.10.13\n"
     ]
    }
   ],
   "source": [
    "import socket\n",
    "\n",
    "# Get the local IP address\n",
    "local_ip = socket.gethostbyname(socket.gethostname())\n",
    "print(\"Local IP address:\", local_ip)\n"
   ]
  },
  {
   "cell_type": "code",
   "execution_count": 2,
   "metadata": {},
   "outputs": [
    {
     "name": "stdout",
     "output_type": "stream",
     "text": [
      "Network in CIDR notation: 192.168.10.0/24\n"
     ]
    }
   ],
   "source": [
    "def convert_to_cidr(ip):\n",
    "    # Split the IP address by '.' to get the individual octets\n",
    "    octets = ip.split('.')\n",
    "    \n",
    "    # Replace the last octet with 0 to get the network address\n",
    "    network_address = '.'.join(octets[:3]) + '.0'\n",
    "    \n",
    "    # Return the network address with /24 CIDR\n",
    "    return f\"{network_address}/24\"\n",
    "\n",
    "# Example usage\n",
    "local_ip = \"192.168.10.13\"\n",
    "network_range = convert_to_cidr(local_ip)\n",
    "\n",
    "print(f\"Network in CIDR notation: {network_range}\")\n"
   ]
  },
  {
   "cell_type": "code",
   "execution_count": 3,
   "metadata": {},
   "outputs": [
    {
     "name": "stdout",
     "output_type": "stream",
     "text": [
      "Scan results:\n",
      "Starting Nmap 7.95 ( https://nmap.org ) at 2025-01-13 00:04 SE Asia Standard Time\n",
      "Nmap scan report for wifi.cmcc (192.168.10.1)\n",
      "Host is up (0.0040s latency).\n",
      "MAC Address: D0:59:19:9C:3B:0D (zte)\n",
      "Nmap scan report for 192.168.10.2 (192.168.10.2)\n",
      "Host is up (0.053s latency).\n",
      "MAC Address: CA:CE:D6:A5:6E:FF (Unknown)\n",
      "Nmap scan report for 192.168.10.14 (192.168.10.14)\n",
      "Host is up (0.0020s latency).\n",
      "MAC Address: 80:BE:AF:AD:B3:0A (Hangzhou Hikvision Digital Technology)\n",
      "Nmap scan report for 192.168.10.13 (192.168.10.13)\n",
      "Host is up.\n",
      "Nmap done: 256 IP addresses (4 hosts up) scanned in 2.22 seconds\n",
      "\n",
      "Hikvision IPs found:\n",
      "(192.168.10.14)\n"
     ]
    }
   ],
   "source": [
    "import subprocess\n",
    "\n",
    "# Get your local network range (for example, 192.168.10.0/24)\n",
    "network_range = \"192.168.10.0/24\"  # Adjust this based on your network\n",
    "\n",
    "# Run the Nmap scan using subprocess\n",
    "nmap_command = f\"nmap -sn {network_range}\"\n",
    "result = subprocess.run(nmap_command, shell=True, capture_output=True, text=True)\n",
    "\n",
    "# Print the results\n",
    "print(\"Scan results:\")\n",
    "print(result.stdout)\n",
    "\n",
    "# Filter out IPs associated with \"Hangzhou Hikvision Digital Technology\"\n",
    "filter_device = \"80:BE:AF\"\n",
    "filtered_ips = []\n",
    "\n",
    "# Process the nmap output to find the Hikvision IP\n",
    "lines = result.stdout.splitlines()\n",
    "for i in range(2, len(lines)):\n",
    "    # Check if the current line contains the device manufacturer\n",
    "    if filter_device in lines[i]:\n",
    "        # The IP address is two lines before the manufacturer name\n",
    "        ip_address = lines[i-2].split()[-1]  # IP is usually the last element in that line\n",
    "        filtered_ips.append(ip_address)\n",
    "\n",
    "# Display the filtered IP addresses\n",
    "if filtered_ips:\n",
    "    print(\"Hikvision IPs found:\")\n",
    "    for ip in filtered_ips:\n",
    "        print(ip)\n",
    "else:\n",
    "    print(\"No Hikvision IP found.\")\n"
   ]
  },
  {
   "cell_type": "code",
   "execution_count": 4,
   "metadata": {},
   "outputs": [
    {
     "name": "stdout",
     "output_type": "stream",
     "text": [
      "192.168.10.14\n"
     ]
    }
   ],
   "source": [
    "\n",
    "ip_address = str(filtered_ips[0])\n",
    "ip_address = ip_address.strip(\"()\")\n",
    "print(ip_address)"
   ]
  },
  {
   "cell_type": "code",
   "execution_count": 5,
   "metadata": {},
   "outputs": [
    {
     "name": "stdout",
     "output_type": "stream",
     "text": [
      "Connected to server, starting video stream.\n",
      "Application ended.\n"
     ]
    },
    {
     "ename": "KeyboardInterrupt",
     "evalue": "",
     "output_type": "error",
     "traceback": [
      "\u001b[1;31m---------------------------------------------------------------------------\u001b[0m",
      "\u001b[1;31mKeyboardInterrupt\u001b[0m                         Traceback (most recent call last)",
      "Cell \u001b[1;32mIn[5], line 86\u001b[0m\n\u001b[0;32m     83\u001b[0m     \u001b[38;5;28;01mcontinue\u001b[39;00m\n\u001b[0;32m     85\u001b[0m \u001b[38;5;66;03m# 3. Send the frame\u001b[39;00m\n\u001b[1;32m---> 86\u001b[0m \u001b[38;5;28;01mif\u001b[39;00m \u001b[38;5;129;01mnot\u001b[39;00m \u001b[43msend_frame\u001b[49m\u001b[43m(\u001b[49m\u001b[43mclient_socket\u001b[49m\u001b[43m,\u001b[49m\u001b[43m \u001b[49m\u001b[43mframe\u001b[49m\u001b[43m)\u001b[49m:\n\u001b[0;32m     87\u001b[0m     \u001b[38;5;28mprint\u001b[39m(\u001b[38;5;124m\"\u001b[39m\u001b[38;5;124mSocket lost, attempting to reconnect...\u001b[39m\u001b[38;5;124m\"\u001b[39m)\n\u001b[0;32m     88\u001b[0m     \u001b[38;5;28;01mbreak\u001b[39;00m  \u001b[38;5;66;03m# Exit the inner loop to reconnect the socket\u001b[39;00m\n",
      "Cell \u001b[1;32mIn[5], line 46\u001b[0m, in \u001b[0;36msend_frame\u001b[1;34m(client_socket, frame)\u001b[0m\n\u001b[0;32m     41\u001b[0m \u001b[38;5;250m\u001b[39m\u001b[38;5;124;03m\"\"\"\u001b[39;00m\n\u001b[0;32m     42\u001b[0m \u001b[38;5;124;03mSends a frame to the server via the socket.\u001b[39;00m\n\u001b[0;32m     43\u001b[0m \u001b[38;5;124;03m\"\"\"\u001b[39;00m\n\u001b[0;32m     44\u001b[0m \u001b[38;5;28;01mtry\u001b[39;00m:\n\u001b[0;32m     45\u001b[0m     \u001b[38;5;66;03m# Encode the frame as JPEG\u001b[39;00m\n\u001b[1;32m---> 46\u001b[0m     _, jpeg \u001b[38;5;241m=\u001b[39m \u001b[43mcv2\u001b[49m\u001b[38;5;241;43m.\u001b[39;49m\u001b[43mimencode\u001b[49m\u001b[43m(\u001b[49m\u001b[38;5;124;43m'\u001b[39;49m\u001b[38;5;124;43m.jpg\u001b[39;49m\u001b[38;5;124;43m'\u001b[39;49m\u001b[43m,\u001b[49m\u001b[43m \u001b[49m\u001b[43mframe\u001b[49m\u001b[43m)\u001b[49m\n\u001b[0;32m     47\u001b[0m     frame_bytes \u001b[38;5;241m=\u001b[39m jpeg\u001b[38;5;241m.\u001b[39mtobytes()\n\u001b[0;32m     49\u001b[0m     \u001b[38;5;66;03m# Send the frame length and data (only if socket is still valid)\u001b[39;00m\n",
      "\u001b[1;31mKeyboardInterrupt\u001b[0m: "
     ]
    }
   ],
   "source": [
    "import cv2\n",
    "import socket\n",
    "import time\n",
    "\n",
    "# Target PC Details\n",
    "TARGET_HOST = '160.22.122.122'\n",
    "TARGET_PORT = 8000\n",
    "\n",
    "# RTSP stream details\n",
    "RTSP_ADDRESS = f\"rtsp://admin:NohopeN3@{ip_address}:554/Streaming/Channels/102\"\n",
    "\n",
    "# Initialize video capture\n",
    "cap = cv2.VideoCapture(RTSP_ADDRESS)\n",
    "\n",
    "def reset_video_capture():\n",
    "    \"\"\"\n",
    "    Reset the video capture stream if an error occurs.\n",
    "    \"\"\"\n",
    "    global cap\n",
    "    print(\"Resetting video capture...\")\n",
    "    cap.release()  # Release the old capture\n",
    "    time.sleep(1)  # Allow the camera to reset\n",
    "    cap = cv2.VideoCapture(RTSP_ADDRESS)  # Re-initialize\n",
    "    if not cap.isOpened():\n",
    "        print(\"Failed to re-open video capture.\")\n",
    "    return cap.isOpened()\n",
    "\n",
    "def create_socket():\n",
    "    \"\"\"\n",
    "    Creates and connects the socket. Returns the socket if successful.\n",
    "    \"\"\"\n",
    "    try:\n",
    "        client_socket = socket.socket(socket.AF_INET, socket.SOCK_STREAM)\n",
    "        client_socket.connect((TARGET_HOST, TARGET_PORT))\n",
    "        return client_socket\n",
    "    except socket.error as e:\n",
    "        print(f\"Error creating socket: {e}\")\n",
    "        return None\n",
    "\n",
    "def send_frame(client_socket, frame):\n",
    "    \"\"\"\n",
    "    Sends a frame to the server via the socket.\n",
    "    \"\"\"\n",
    "    try:\n",
    "        # Encode the frame as JPEG\n",
    "        _, jpeg = cv2.imencode('.jpg', frame)\n",
    "        frame_bytes = jpeg.tobytes()\n",
    "\n",
    "        # Send the frame length and data (only if socket is still valid)\n",
    "        if client_socket and client_socket.fileno() != -1:  # Check if socket is open\n",
    "            length = len(frame_bytes)\n",
    "            client_socket.sendall(length.to_bytes(4, byteorder='big'))  # Length prefix\n",
    "            client_socket.sendall(frame_bytes)\n",
    "        else:\n",
    "            print(\"Socket is not open. Reconnecting...\")\n",
    "            return False\n",
    "    except Exception as e:\n",
    "        print(f\"Error while sending frame: {e}\")\n",
    "        return False\n",
    "    return True\n",
    "\n",
    "try:\n",
    "    # Main loop for connection and video streaming\n",
    "    while True:\n",
    "        # 1. Create the socket\n",
    "        client_socket = create_socket()\n",
    "        if not client_socket:\n",
    "            print(\"Connection failed, retrying in 5 seconds...\")\n",
    "            time.sleep(5)\n",
    "            continue\n",
    "\n",
    "        print(\"Connected to server, starting video stream.\")\n",
    "        \n",
    "        try:\n",
    "            while True:\n",
    "                # 2. Read a frame from the video capture\n",
    "                ret, frame = cap.read()\n",
    "\n",
    "                if not ret:\n",
    "                    print(\"Error reading frame, resetting video capture.\")\n",
    "                    if not reset_video_capture():\n",
    "                        break  # Exit if unable to reinitialize the video stream\n",
    "                    continue\n",
    "\n",
    "                # 3. Send the frame\n",
    "                if not send_frame(client_socket, frame):\n",
    "                    print(\"Socket lost, attempting to reconnect...\")\n",
    "                    break  # Exit the inner loop to reconnect the socket\n",
    "\n",
    "                # # Check for user input to exit\n",
    "                # if cv2.waitKey(1) & 0xFF == ord('q'):\n",
    "                #     print(\"Exiting on user request.\")\n",
    "                #     break\n",
    "\n",
    "        except Exception as e:\n",
    "            print(f\"Error during video streaming: {e}\")\n",
    "        finally:\n",
    "            # Clean up the socket connection\n",
    "            if client_socket:\n",
    "                client_socket.close()\n",
    "\n",
    "        # # Outer loop exit condition\n",
    "        # if cv2.waitKey(1) & 0xFF == ord('q'):\n",
    "        #     break\n",
    "\n",
    "finally:\n",
    "    # Release resources\n",
    "    if cap.isOpened():\n",
    "        cap.release() \n",
    "    cv2.destroyAllWindows()\n",
    "    print(\"Application ended.\")"
   ]
  }
 ],
 "metadata": {
  "kernelspec": {
   "display_name": "Python 3",
   "language": "python",
   "name": "python3"
  },
  "language_info": {
   "codemirror_mode": {
    "name": "ipython",
    "version": 3
   },
   "file_extension": ".py",
   "mimetype": "text/x-python",
   "name": "python",
   "nbconvert_exporter": "python",
   "pygments_lexer": "ipython3",
   "version": "3.12.8"
  }
 },
 "nbformat": 4,
 "nbformat_minor": 2
}
